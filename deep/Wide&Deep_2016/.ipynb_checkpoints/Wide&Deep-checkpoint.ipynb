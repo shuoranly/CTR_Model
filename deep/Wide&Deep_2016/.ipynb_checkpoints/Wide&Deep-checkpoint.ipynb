{
 "cells": [
  {
   "cell_type": "code",
   "execution_count": 1,
   "metadata": {},
   "outputs": [],
   "source": [
    "import tensorflow as tf\n",
    "import pandas as pd\n",
    "import numpy as np\n",
    "import math\n",
    "from sklearn.metrics import roc_auc_score\n",
    "from sklearn.preprocessing import  MinMaxScaler\n",
    "from sklearn.model_selection import train_test_split\n",
    "import pickle\n",
    "import gc"
   ]
  },
  {
   "cell_type": "markdown",
   "metadata": {},
   "source": [
    "# Data\n",
    "criteo_data: label I1-I13 C1-C26"
   ]
  },
  {
   "cell_type": "code",
   "execution_count": 2,
   "metadata": {},
   "outputs": [
    {
     "data": {
      "text/plain": [
       "22"
      ]
     },
     "execution_count": 2,
     "metadata": {},
     "output_type": "execute_result"
    }
   ],
   "source": [
    "data = pd.read_csv('../../data/criteo_data/train.txt', sep='\\t', header=None)\n",
    "y = data[0]\n",
    "X = data.drop([0], axis=1)\n",
    "\n",
    "del data\n",
    "gc.collect()"
   ]
  },
  {
   "cell_type": "code",
   "execution_count": 3,
   "metadata": {},
   "outputs": [],
   "source": [
    "continuous_feature = list(range(1,14))\n",
    "category_feature = list(range(14, 40))\n",
    "X[continuous_feature] = X[continuous_feature].fillna(0, )\n",
    "X[category_feature] = X[category_feature].fillna('-1', )\n",
    "mms = MinMaxScaler(feature_range=(0, 1))\n",
    "X[continuous_feature] = mms.fit_transform(X[continuous_feature])"
   ]
  },
  {
   "cell_type": "code",
   "execution_count": 6,
   "metadata": {},
   "outputs": [],
   "source": [
    "X_trian, X_valid, y_train, y_valid = train_test_split(X, y, test_size=0.1)"
   ]
  },
  {
   "cell_type": "code",
   "execution_count": 9,
   "metadata": {},
   "outputs": [],
   "source": [
    "class DataParse:\n",
    "    def __init__(self, category_feature, continuous_feature, ignore_feature=[], feature_dict={}, feature_size=0, field_size=0):\n",
    "        self.feature_dict = feature_dict\n",
    "        self.feature_size = feature_size\n",
    "        self.field_size = field_size\n",
    "        self.ignore_feature = ignore_feature\n",
    "        self.category_feature = category_feature\n",
    "        self.continuous_feature = continuous_feature\n",
    "        self.category_field_size = len(category_feature)\n",
    "        self.continuous_size = len(continuous_feature)\n",
    "    \n",
    "    def FeatureDictionary(self, train, test):\n",
    "        \"\"\"\n",
    "        目的是给每一个特征维度都进行编号。\n",
    "        1. 对于离散特征，one-hot之后每一列都是一个新的特征维度(计算编号时，不算0)。所以，原来的一维度对应的是很多维度，编号也是不同的。\n",
    "        2. 对于连续特征，原来的一维特征依旧是一维特征。\n",
    "        返回一个feat_dict，用于根据原特征名称和特征取值 快速查询出 对应的特征编号。\n",
    "        train: 原始训练集\n",
    "        test:  原始测试集\n",
    "        continuous_feature: 所有数值型特征\n",
    "        ignore_feature: 所有忽略的特征. 除了数值型和忽略的，剩下的全部认为是离散型\n",
    "        feat_dict, feat_size\n",
    "             1. feat_size: one-hot之后总的特征维度。\n",
    "             2. feat_dict是一个{}， key是特征string的col_name, value可能是编号（int），可能也是一个字典。\n",
    "             如果原特征是连续特征： value就是int，表示对应的特征编号；\n",
    "             如果原特征是离散特征：value就是dict，里面是根据离散特征的 实际取值 查询 该维度的特征编号。 因为离散特征one-hot之后，\n",
    "             一个取值就是一个维度，而一个维度就对应一个编号。\n",
    "        \"\"\"\n",
    "        df = pd.concat([train, test], axis=0)\n",
    "        feat_dict = {}\n",
    "        total_cnt = 0\n",
    "        \n",
    "        for col in df.columns:\n",
    "            # 连续特征只有一个编号\n",
    "            if col in self.continuous_feature:\n",
    "                feat_dict[col] = total_cnt\n",
    "                total_cnt = total_cnt + 1\n",
    "            elif col in self.category_feature:\n",
    "                unique_vals = df[col].unique()\n",
    "                unique_cnt = df[col].nunique()\n",
    "                feat_dict[col] = dict(zip(unique_vals, range(total_cnt, total_cnt + unique_cnt)))\n",
    "                total_cnt = total_cnt + unique_cnt\n",
    "        \n",
    "        self.feature_size = total_cnt\n",
    "        self.feature_dict = feat_dict\n",
    "        print('feat_dict=', feat_dict)\n",
    "        print('feature_size=', total_cnt)\n",
    "    \n",
    "    def parse(self, df):\n",
    "        dfi = df.copy()\n",
    "        dfv = df.copy()\n",
    "        for col in dfi.columns:\n",
    "            if col in self.ignore_feature:\n",
    "                dfi.drop([col], axis=1, inplace=True)\n",
    "                dfv.drop([col], axis=1, inplace=True)\n",
    "\n",
    "            elif col in self.continuous_feature:  # 连续特征1个维度，对应1个编号，这个编号是一个定值\n",
    "                dfi[col] = self.feature_dict[col]\n",
    "\n",
    "            elif col in self.category_feature:  # 离散特征。不同取值对应不同的特征维度，编号也是不同的。\n",
    "                dfi[col] = dfi[col].map(self.feature_dict[col])\n",
    "                dfv[col] = 1.0\n",
    "\n",
    "        feature_index = dfi.values.tolist()\n",
    "        feature_val = dfv.values.tolist()\n",
    "        self.field_size = len(feature_index[0])\n",
    "        del dfi, dfv\n",
    "        gc.collect()\n",
    "\n",
    "        return feature_index, feature_val"
   ]
  },
  {
   "cell_type": "code",
   "execution_count": 10,
   "metadata": {},
   "outputs": [
    {
     "name": "stderr",
     "output_type": "stream",
     "text": [
      "IOPub data rate exceeded.\n",
      "The notebook server will temporarily stop sending output\n",
      "to the client in order to avoid crashing it.\n",
      "To change this limit, set the config variable\n",
      "`--NotebookApp.iopub_data_rate_limit`.\n",
      "\n",
      "Current values:\n",
      "NotebookApp.iopub_data_rate_limit=1000000.0 (bytes/sec)\n",
      "NotebookApp.rate_limit_window=3.0 (secs)\n",
      "\n"
     ]
    }
   ],
   "source": [
    "dataParse = DataParse(continuous_feature=continuous_feature, category_feature=category_feature)\n",
    "dataParse.FeatureDictionary(X_trian, X_valid)\n",
    "train_feature_index, train_feature_val = dataParse.parse(X_trian)\n",
    "valid_feature_index, valid_feature_val = dataParse.parse(X_valid)"
   ]
  },
  {
   "cell_type": "code",
   "execution_count": 11,
   "metadata": {},
   "outputs": [
    {
     "name": "stdout",
     "output_type": "stream",
     "text": [
      "feature_num 2605299\n",
      "field_num 39\n",
      "category_field_size 26\n"
     ]
    }
   ],
   "source": [
    "print('feature_num', dataParse.feature_size)\n",
    "print('field_num', dataParse.field_size)\n",
    "print('category_field_size', dataParse.category_field_size)"
   ]
  },
  {
   "cell_type": "markdown",
   "metadata": {},
   "source": [
    "## Data Persistent"
   ]
  },
  {
   "cell_type": "code",
   "execution_count": 14,
   "metadata": {},
   "outputs": [
    {
     "name": "stderr",
     "output_type": "stream",
     "text": [
      "D:\\Anaconda3\\lib\\site-packages\\ipykernel_launcher.py:1: FutureWarning: The signature of `Series.to_csv` was aligned to that of `DataFrame.to_csv`, and argument 'header' will change its default value from False to True: please pass an explicit value to suppress this warning.\n",
      "  \"\"\"Entry point for launching an IPython kernel.\n",
      "D:\\Anaconda3\\lib\\site-packages\\ipykernel_launcher.py:2: FutureWarning: The signature of `Series.to_csv` was aligned to that of `DataFrame.to_csv`, and argument 'header' will change its default value from False to True: please pass an explicit value to suppress this warning.\n",
      "  \n"
     ]
    }
   ],
   "source": [
    "y_train.to_csv('../../data/criteo_data/train_y.txt', header=None, index=False)\n",
    "y_valid.to_csv('../../data/criteo_data/valid_y.txt', header=None, index=False)"
   ]
  },
  {
   "cell_type": "code",
   "execution_count": 15,
   "metadata": {},
   "outputs": [],
   "source": [
    "train_feature_index = pd.DataFrame(train_feature_index)\n",
    "train_feature_index.to_csv('../../data/criteo_data/train_index.txt', header=None, index=False, sep='\\t')\n",
    "\n",
    "train_feature_val = pd.DataFrame(train_feature_val)\n",
    "train_feature_val.to_csv('../../data/criteo_data/train_value.txt', header=None, index=False, sep='\\t')\n",
    "\n",
    "valid_feature_index = pd.DataFrame(valid_feature_index)\n",
    "valid_feature_index.to_csv('../../data/criteo_data/valid_index.txt', header=None, index=False, sep='\\t')\n",
    "\n",
    "valid_feature_val = pd.DataFrame(valid_feature_val)\n",
    "valid_feature_val.to_csv('../../data/criteo_data/valid_value.txt', header=None, index=False, sep='\\t')"
   ]
  },
  {
   "cell_type": "markdown",
   "metadata": {},
   "source": [
    "# Model"
   ]
  },
  {
   "cell_type": "code",
   "execution_count": 2,
   "metadata": {},
   "outputs": [],
   "source": [
    "BATCH_SIZE = 1024"
   ]
  },
  {
   "cell_type": "code",
   "execution_count": 3,
   "metadata": {},
   "outputs": [],
   "source": [
    "def get_batch_dataset(label_path, idx_path, value_path):\n",
    "    label = tf.data.TextLineDataset(label_path)\n",
    "    idx = tf.data.TextLineDataset(idx_path)\n",
    "    value = tf.data.TextLineDataset(value_path)\n",
    "\n",
    "    label = label.map(lambda x: tf.strings.to_number(tf.strings.split(x, sep='\\t')), num_parallel_calls=12)\n",
    "    idx = idx.map(lambda x: tf.strings.to_number(tf.strings.split(x, sep='\\t')), num_parallel_calls=12)\n",
    "    value = value.map(lambda x: tf.strings.to_number(tf.strings.split(x, sep='\\t')), num_parallel_calls=12)\n",
    "\n",
    "    batch_dataset = tf.data.Dataset.zip((label, idx, value))\n",
    "    batch_dataset = batch_dataset.shuffle(buffer_size=BATCH_SIZE*10)\n",
    "    batch_dataset = batch_dataset.batch(BATCH_SIZE)\n",
    "    batch_dataset = batch_dataset.prefetch(buffer_size=tf.data.experimental.AUTOTUNE)\n",
    "    return batch_dataset"
   ]
  },
  {
   "cell_type": "code",
   "execution_count": 41,
   "metadata": {},
   "outputs": [],
   "source": [
    "class WideDeep_layer(tf.keras.Model):\n",
    "    def __init__(self, num_feat, num_field, continuous_size, dropout_deeps, deep_layer_sizes, \n",
    "                 reg_l1=0.01, reg_l2=1e-5, embedding_size=10):\n",
    "        super().__init__()\n",
    "        self.num_feat = num_feat\n",
    "        self.num_field = num_field\n",
    "        self.continuous_size = continuous_size\n",
    "        self.dropout_deeps = dropout_deeps\n",
    "        self.deep_layer_sizes = deep_layer_sizes\n",
    "        self.reg_l1 = reg_l1\n",
    "        self.reg_l2 = reg_l2\n",
    "        self.embedding_size = embedding_size\n",
    "        \n",
    "        # Wide with no cross\n",
    "        self.wide_embedding = tf.keras.layers.Embedding(num_feat, 1, embeddings_initializer='uniform')\n",
    "        self.wide_weights = tf.Variable(tf.random.normal([num_field, 1]))\n",
    "        self.wide_bias = tf.Variable(tf.random.normal([1]))\n",
    "        \n",
    "        # Deep\n",
    "        self.deep_embedding1 = tf.keras.layers.Embedding(continuous_size, 1, embeddings_initializer='uniform')\n",
    "        self.deep_embedding2 = tf.keras.layers.Embedding(num_feat-continuous_size, embedding_size, embeddings_initializer='uniform')\n",
    "        #self.deep_embedding2 = tf.keras.layers.Embedding(num_feat, embedding_size, embeddings_initializer='uniform')\n",
    "        \n",
    "        for i in range(len(deep_layer_sizes)):\n",
    "            setattr(self, 'dense_' + str(i), tf.keras.layers.Dense(deep_layer_sizes[i]))\n",
    "            setattr(self, 'batchNorm_' + str(i), tf.keras.layers.BatchNormalization())\n",
    "            setattr(self, 'activation_' + str(i), tf.keras.layers.Activation('relu'))\n",
    "            setattr(self, 'dropout_' + str(i), tf.keras.layers.Dropout(dropout_deeps[i]))\n",
    "        \n",
    "        self.fc = tf.keras.layers.Dense(1, activation=None, use_bias=True)\n",
    "        \n",
    "    def call(self, fea_index, fea_value1):\n",
    "        # wide\n",
    "        wide_embedding = self.wide_embedding(fea_index)          \n",
    "        wide_out = tf.add(tf.multiply(wide_embedding, self.wide_weights), self.wide_bias)\n",
    "        \n",
    "        # deep\n",
    "        deep_embedding1 = self.deep_embedding1(tf.gather(fea_index, axis=1, indices=list(range(0,self.continuous_size))))\n",
    "        deep_embedding1 = tf.reshape(deep_embedding1, shape=[-1, self.continuous_size])\n",
    "        #index-continuous_size\n",
    "        deep_embedding2 = self.deep_embedding2(tf.gather(fea_index-self.continuous_size, axis=1, indices=list(range(self.continuous_size, self.num_field))))\n",
    "        deep_embedding2 = tf.reshape(deep_embedding2, shape=[-1, (self.num_field-self.continuous_size)*self.embedding_size])\n",
    "        #deep_embedding2 = tf.reshape(deep_embedding2, shape=[-1, self.num_field*self.embedding_size])\n",
    "        y_deep = tf.concat([deep_embedding1, deep_embedding2], axis=1)\n",
    "    \n",
    "        for i in range(len(self.deep_layer_sizes)):\n",
    "            y_deep = getattr(self, 'dense_' + str(i))(y_deep)\n",
    "            y_deep = getattr(self, 'batchNorm_' + str(i))(y_deep)\n",
    "            y_deep = getattr(self, 'activation_' + str(i))(y_deep)\n",
    "            y_deep = getattr(self, 'dropout_' + str(i))(y_deep)\n",
    "        \n",
    "        output = self.fc(y_deep)\n",
    "        return output"
   ]
  },
  {
   "cell_type": "code",
   "execution_count": 9,
   "metadata": {},
   "outputs": [],
   "source": [
    "def cross_entropy_loss(y_true, y_pred):\n",
    "    return tf.reduce_mean(tf.losses.binary_crossentropy(y_true, y_pred))"
   ]
  },
  {
   "cell_type": "code",
   "execution_count": 10,
   "metadata": {},
   "outputs": [],
   "source": [
    "def train_one_step(model, optimizer, idx, value, label):\n",
    "    with tf.GradientTape() as tape:\n",
    "        output = model(idx, value)\n",
    "        loss = cross_entropy_loss(y_true=label, y_pred=output)\n",
    "\n",
    "        reg_loss = []\n",
    "        for p in model.trainable_variables:\n",
    "            reg_loss.append(tf.nn.l2_loss(p))\n",
    "        reg_loss = tf.reduce_sum(tf.stack(reg_loss))\n",
    "        loss = loss + model.reg_l2 * reg_loss\n",
    "\n",
    "    grads = tape.gradient(loss, model.trainable_variables)\n",
    "    grads = [tf.clip_by_norm(g, 100) for g in grads]\n",
    "    optimizer.apply_gradients(grads_and_vars=zip(grads, model.trainable_variables))\n",
    "    return loss"
   ]
  },
  {
   "cell_type": "code",
   "execution_count": 11,
   "metadata": {},
   "outputs": [],
   "source": [
    "def train_model(model, train_batch_dataset, optimizer, epoch):\n",
    "    for batch_idx, (label, idx, value) in enumerate(train_batch_dataset):\n",
    "        if len(label) == 0:\n",
    "            break\n",
    "\n",
    "        loss = train_one_step(model, optimizer, idx, value, label)\n",
    "\n",
    "        if batch_idx % 100 == 0:\n",
    "            print('Train Epoch:{}, Step:{}, Loss:{:.6f}'.format(epoch, batch_idx, loss.numpy()))"
   ]
  },
  {
   "cell_type": "code",
   "execution_count": 12,
   "metadata": {},
   "outputs": [],
   "source": [
    "def test_model(model, test_batch_dataset):\n",
    "    pred_y, true_y = [], []\n",
    "    binaryloss = tf.keras.metrics.BinaryCrossentropy()\n",
    "    for batch_idx, (label, idx, value) in enumerate(test_batch_dataset):\n",
    "        if len(label) == 0:\n",
    "            break\n",
    "\n",
    "        output = model(idx, value)\n",
    "        binaryloss.update_state(y_true=label, y_pred=output)\n",
    "        pred_y.extend(list(output.numpy()))\n",
    "        true_y.extend(list(label.numpy()))\n",
    "    print('Roc AUC: %.5f' % roc_auc_score(y_true=np.array(true_y), y_score=np.array(pred_y)))\n",
    "    print('LogLoss: %.5f' % binaryloss.result())"
   ]
  },
  {
   "cell_type": "code",
   "execution_count": 42,
   "metadata": {},
   "outputs": [],
   "source": [
    "wide_deep = WideDeep_layer(num_feat=2605299, num_field=39, continuous_size=13, \n",
    "                dropout_deeps=[0.5, 0.5], deep_layer_sizes=[128, 128], \n",
    "                reg_l1=0.01, reg_l2=1e-5, embedding_size=10)"
   ]
  },
  {
   "cell_type": "code",
   "execution_count": 43,
   "metadata": {},
   "outputs": [],
   "source": [
    "train_label_path='../../data/criteo_data/train_y.txt'\n",
    "train_idx_path='../../data/criteo_data/train_index.txt'\n",
    "train_value_path='../../data/criteo_data/train_value.txt'\n",
    "\n",
    "valid_label_path='../../data/criteo_data/valid_y.txt'\n",
    "valid_idx_path='../../data/criteo_data/valid_index.txt'\n",
    "valid_value_path='../../data/criteo_data/valid_value.txt'"
   ]
  },
  {
   "cell_type": "code",
   "execution_count": 44,
   "metadata": {},
   "outputs": [],
   "source": [
    "train_batch_dataset = get_batch_dataset(train_label_path, train_idx_path, train_value_path)\n",
    "test_batch_dataset = get_batch_dataset(valid_label_path, valid_idx_path, valid_value_path)"
   ]
  },
  {
   "cell_type": "code",
   "execution_count": 45,
   "metadata": {
    "scrolled": true
   },
   "outputs": [
    {
     "name": "stdout",
     "output_type": "stream",
     "text": [
      "Train Epoch:0, Step:0, Loss:2.406649\n",
      "Train Epoch:0, Step:100, Loss:0.505746\n",
      "Train Epoch:0, Step:200, Loss:0.529055\n",
      "Train Epoch:0, Step:300, Loss:0.509203\n",
      "Train Epoch:0, Step:400, Loss:0.490372\n",
      "Train Epoch:0, Step:500, Loss:0.500946\n",
      "Train Epoch:0, Step:600, Loss:0.486857\n",
      "Train Epoch:0, Step:700, Loss:0.477947\n",
      "Train Epoch:0, Step:800, Loss:0.540893\n",
      "Train Epoch:0, Step:900, Loss:0.503809\n",
      "Train Epoch:0, Step:1000, Loss:0.524286\n",
      "Train Epoch:0, Step:1100, Loss:0.510939\n",
      "Train Epoch:0, Step:1200, Loss:0.491263\n",
      "Train Epoch:0, Step:1300, Loss:0.490170\n",
      "Train Epoch:0, Step:1400, Loss:0.501577\n",
      "Train Epoch:0, Step:1500, Loss:0.472143\n",
      "Train Epoch:0, Step:1600, Loss:0.492098\n",
      "Train Epoch:0, Step:1700, Loss:0.496923\n",
      "Train Epoch:1, Step:0, Loss:0.506049\n",
      "Train Epoch:1, Step:100, Loss:0.479696\n",
      "Train Epoch:1, Step:200, Loss:0.469995\n",
      "Train Epoch:1, Step:300, Loss:0.491393\n",
      "Train Epoch:1, Step:400, Loss:0.527937\n",
      "Train Epoch:1, Step:500, Loss:0.477483\n",
      "Train Epoch:1, Step:600, Loss:0.477413\n",
      "Train Epoch:1, Step:700, Loss:0.493806\n",
      "Train Epoch:1, Step:800, Loss:0.510347\n",
      "Train Epoch:1, Step:900, Loss:0.482517\n",
      "Train Epoch:1, Step:1000, Loss:0.482301\n",
      "Train Epoch:1, Step:1100, Loss:0.497470\n",
      "Train Epoch:1, Step:1200, Loss:0.495935\n",
      "Train Epoch:1, Step:1300, Loss:0.481406\n",
      "Train Epoch:1, Step:1400, Loss:0.477936\n",
      "Train Epoch:1, Step:1500, Loss:0.488944\n",
      "Train Epoch:1, Step:1600, Loss:0.484953\n",
      "Train Epoch:1, Step:1700, Loss:0.462477\n",
      "Train Epoch:2, Step:0, Loss:0.505855\n",
      "Train Epoch:2, Step:100, Loss:0.527082\n",
      "Train Epoch:2, Step:200, Loss:0.484934\n",
      "Train Epoch:2, Step:300, Loss:0.501866\n",
      "Train Epoch:2, Step:400, Loss:0.456791\n",
      "Train Epoch:2, Step:500, Loss:0.455162\n",
      "Train Epoch:2, Step:600, Loss:0.442250\n",
      "Train Epoch:2, Step:700, Loss:0.440310\n",
      "Train Epoch:2, Step:800, Loss:0.398102\n",
      "Train Epoch:2, Step:900, Loss:0.443369\n",
      "Train Epoch:2, Step:1000, Loss:0.465896\n",
      "Train Epoch:2, Step:1100, Loss:0.429008\n",
      "Train Epoch:2, Step:1200, Loss:0.408642\n",
      "Train Epoch:2, Step:1300, Loss:0.435214\n",
      "Train Epoch:2, Step:1400, Loss:0.388904\n",
      "Train Epoch:2, Step:1500, Loss:0.411878\n",
      "Train Epoch:2, Step:1600, Loss:0.399819\n",
      "Train Epoch:2, Step:1700, Loss:0.411766\n",
      "Train Epoch:3, Step:0, Loss:0.444345\n",
      "Train Epoch:3, Step:100, Loss:0.408330\n",
      "Train Epoch:3, Step:200, Loss:0.412505\n",
      "Train Epoch:3, Step:300, Loss:0.433855\n",
      "Train Epoch:3, Step:400, Loss:0.402473\n",
      "Train Epoch:3, Step:500, Loss:0.415637\n",
      "Train Epoch:3, Step:600, Loss:0.363895\n",
      "Train Epoch:3, Step:700, Loss:0.464127\n",
      "Train Epoch:3, Step:800, Loss:0.401092\n",
      "Train Epoch:3, Step:900, Loss:0.378589\n",
      "Train Epoch:3, Step:1000, Loss:0.383095\n",
      "Train Epoch:3, Step:1100, Loss:0.410113\n",
      "Train Epoch:3, Step:1200, Loss:0.410763\n",
      "Train Epoch:3, Step:1300, Loss:0.422316\n",
      "Train Epoch:3, Step:1400, Loss:0.433343\n",
      "Train Epoch:3, Step:1500, Loss:0.400715\n",
      "Train Epoch:3, Step:1600, Loss:0.416996\n",
      "Train Epoch:3, Step:1700, Loss:0.397136\n",
      "Train Epoch:4, Step:0, Loss:0.408884\n",
      "Train Epoch:4, Step:100, Loss:0.392786\n",
      "Train Epoch:4, Step:200, Loss:0.410746\n",
      "Train Epoch:4, Step:300, Loss:0.396056\n",
      "Train Epoch:4, Step:400, Loss:0.402234\n",
      "Train Epoch:4, Step:500, Loss:0.389725\n",
      "Train Epoch:4, Step:600, Loss:0.363027\n",
      "Train Epoch:4, Step:700, Loss:0.374630\n",
      "Train Epoch:4, Step:800, Loss:0.388026\n",
      "Train Epoch:4, Step:900, Loss:0.401864\n",
      "Train Epoch:4, Step:1000, Loss:0.420869\n",
      "Train Epoch:4, Step:1100, Loss:0.387970\n",
      "Train Epoch:4, Step:1200, Loss:0.382387\n",
      "Train Epoch:4, Step:1300, Loss:0.391827\n",
      "Train Epoch:4, Step:1400, Loss:0.396086\n",
      "Train Epoch:4, Step:1500, Loss:0.377120\n",
      "Train Epoch:4, Step:1600, Loss:0.410789\n",
      "Train Epoch:4, Step:1700, Loss:0.432981\n",
      "Wall time: 47min 41s\n"
     ]
    }
   ],
   "source": [
    "%%time\n",
    "optimizer = tf.keras.optimizers.Adam(learning_rate=1e-3)\n",
    "for epoch in range(5):\n",
    "    train_model(wide_deep, train_batch_dataset, optimizer, epoch)"
   ]
  },
  {
   "cell_type": "code",
   "execution_count": 47,
   "metadata": {},
   "outputs": [
    {
     "name": "stdout",
     "output_type": "stream",
     "text": [
      "Roc AUC: 0.89074\n",
      "LogLoss: 0.35759\n"
     ]
    }
   ],
   "source": [
    "test_model(wide_deep, train_batch_dataset)"
   ]
  },
  {
   "cell_type": "code",
   "execution_count": 46,
   "metadata": {},
   "outputs": [
    {
     "name": "stdout",
     "output_type": "stream",
     "text": [
      "Roc AUC: 0.69904\n",
      "LogLoss: 0.94193\n"
     ]
    }
   ],
   "source": [
    "test_model(wide_deep, test_batch_dataset)"
   ]
  },
  {
   "cell_type": "code",
   "execution_count": null,
   "metadata": {},
   "outputs": [],
   "source": []
  }
 ],
 "metadata": {
  "kernelspec": {
   "display_name": "Python 3",
   "language": "python",
   "name": "python3"
  },
  "language_info": {
   "codemirror_mode": {
    "name": "ipython",
    "version": 3
   },
   "file_extension": ".py",
   "mimetype": "text/x-python",
   "name": "python",
   "nbconvert_exporter": "python",
   "pygments_lexer": "ipython3",
   "version": "3.7.4"
  }
 },
 "nbformat": 4,
 "nbformat_minor": 2
}

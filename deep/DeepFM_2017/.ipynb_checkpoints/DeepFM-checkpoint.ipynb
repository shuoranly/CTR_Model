{
 "cells": [
  {
   "cell_type": "code",
   "execution_count": 2,
   "metadata": {},
   "outputs": [],
   "source": [
    "import tensorflow as tf\n",
    "import pandas as pd\n",
    "import numpy as np\n",
    "import math\n",
    "from sklearn.metrics import roc_auc_score\n",
    "from sklearn.preprocessing import  MinMaxScaler\n",
    "from sklearn.model_selection import train_test_split\n",
    "import pickle\n",
    "import gc"
   ]
  },
  {
   "cell_type": "markdown",
   "metadata": {},
   "source": [
    "# Data \n",
    "criteo_data: label I1-I13 C1-C26"
   ]
  },
  {
   "cell_type": "code",
   "execution_count": null,
   "metadata": {},
   "outputs": [],
   "source": [
    "data = pd.read_csv('../../data/criteo_data/train.txt', sep='\\t', header=None)\n",
    "y = data[0]\n",
    "X = data.drop([0], axis=1)\n",
    "\n",
    "del data\n",
    "gc.collect()"
   ]
  },
  {
   "cell_type": "code",
   "execution_count": null,
   "metadata": {},
   "outputs": [],
   "source": [
    "continuous_feature = list(range(1,14))\n",
    "category_feature = list(range(14, 40))\n",
    "X[continuous_feature] = X[continuous_feature].fillna(0)\n",
    "X[category_feature] = X[category_feature].fillna('-1')\n",
    "mms = MinMaxScaler(feature_range=(0, 1))\n",
    "X[continuous_feature] = mms.fit_transform(X[continuous_feature])"
   ]
  },
  {
   "cell_type": "code",
   "execution_count": null,
   "metadata": {},
   "outputs": [],
   "source": [
    "X_trian, X_valid, y_train, y_valid = train_test_split(X, y, test_size=0.1)"
   ]
  },
  {
   "cell_type": "code",
   "execution_count": null,
   "metadata": {},
   "outputs": [],
   "source": [
    "class DataParse:\n",
    "    def __init__(self, category_feature, continuous_feature, ignore_feature=[], feature_dict={}, feature_size=0, field_size=0):\n",
    "        self.feature_dict = feature_dict\n",
    "        self.feature_size = feature_size\n",
    "        self.field_size = field_size\n",
    "        self.ignore_feature = ignore_feature\n",
    "        self.category_feature = category_feature\n",
    "        self.continuous_feature = continuous_feature\n",
    "        self.category_field_size = len(category_feature)\n",
    "        self.continuous_size = len(continuous_feature)\n",
    "    \n",
    "    def FeatureDictionary(self, train, test):\n",
    "        \"\"\"\n",
    "        目的是给每一个特征维度都进行编号。\n",
    "        1. 对于离散特征，one-hot之后每一列都是一个新的特征维度(计算编号时，不算0)。所以，原来的一维度对应的是很多维度，编号也是不同的。\n",
    "        2. 对于连续特征，原来的一维特征依旧是一维特征。\n",
    "        返回一个feat_dict，用于根据原特征名称和特征取值 快速查询出 对应的特征编号。\n",
    "        train: 原始训练集\n",
    "        test:  原始测试集\n",
    "        continuous_feature: 所有数值型特征\n",
    "        ignore_feature: 所有忽略的特征. 除了数值型和忽略的，剩下的全部认为是离散型\n",
    "        feat_dict, feat_size\n",
    "             1. feat_size: one-hot之后总的特征维度。\n",
    "             2. feat_dict是一个{}， key是特征string的col_name, value可能是编号（int），可能也是一个字典。\n",
    "             如果原特征是连续特征： value就是int，表示对应的特征编号；\n",
    "             如果原特征是离散特征：value就是dict，里面是根据离散特征的 实际取值 查询 该维度的特征编号。 因为离散特征one-hot之后，\n",
    "             一个取值就是一个维度，而一个维度就对应一个编号。\n",
    "        \"\"\"\n",
    "        df = pd.concat([train, test], axis=0)\n",
    "        feat_dict = {}\n",
    "        total_cnt = 0\n",
    "        \n",
    "        for col in df.columns:\n",
    "            # 连续特征只有一个编号\n",
    "            if col in self.continuous_feature:\n",
    "                feat_dict[col] = total_cnt\n",
    "                total_cnt = total_cnt + 1\n",
    "            elif col in self.category_feature:\n",
    "                unique_vals = df[col].unique()\n",
    "                unique_cnt = df[col].nunique()\n",
    "                feat_dict[col] = dict(zip(unique_vals, range(total_cnt, total_cnt + unique_cnt)))\n",
    "                total_cnt = total_cnt + unique_cnt\n",
    "        \n",
    "        self.feature_size = total_cnt\n",
    "        self.feature_dict = feat_dict\n",
    "        print('feat_dict=', feat_dict)\n",
    "        print('feature_size=', total_cnt)\n",
    "    \n",
    "    def parse(self, df):\n",
    "        dfi = df.copy()\n",
    "        dfv = df.copy()\n",
    "        for col in dfi.columns:\n",
    "            if col in self.ignore_feature:\n",
    "                dfi.drop([col], axis=1, inplace=True)\n",
    "                dfv.drop([col], axis=1, inplace=True)\n",
    "\n",
    "            elif col in self.continuous_feature:  # 连续特征1个维度，对应1个编号，这个编号是一个定值\n",
    "                dfi[col] = self.feature_dict[col]\n",
    "\n",
    "            elif col in self.category_feature:  # 离散特征。不同取值对应不同的特征维度，编号也是不同的。\n",
    "                dfi[col] = dfi[col].map(self.feature_dict[col])\n",
    "                dfv[col] = 1.0\n",
    "\n",
    "        feature_index = dfi.values.tolist()\n",
    "        feature_val = dfv.values.tolist()\n",
    "        self.field_size = len(feature_index[0])\n",
    "        del dfi, dfv\n",
    "        gc.collect()\n",
    "\n",
    "        return feature_index, feature_val"
   ]
  },
  {
   "cell_type": "code",
   "execution_count": null,
   "metadata": {},
   "outputs": [],
   "source": [
    "dataParse = DataParse(continuous_feature=continuous_feature, category_feature=category_feature)\n",
    "dataParse.FeatureDictionary(X_trian, X_valid)\n",
    "train_feature_index, train_feature_val = dataParse.parse(X_trian)\n",
    "valid_feature_index, valid_feature_val = dataParse.parse(X_valid)"
   ]
  },
  {
   "cell_type": "code",
   "execution_count": null,
   "metadata": {},
   "outputs": [],
   "source": [
    "print('feature_num', dataParse.feature_size)\n",
    "print('field_num', dataParse.field_size)\n",
    "print('category_field_size', dataParse.category_field_size)"
   ]
  },
  {
   "cell_type": "markdown",
   "metadata": {},
   "source": [
    "### Data Persistent"
   ]
  },
  {
   "cell_type": "code",
   "execution_count": null,
   "metadata": {},
   "outputs": [],
   "source": [
    "y_train.to_csv('../../data/criteo_data/train_y.txt', header=None, index=False)\n",
    "y_valid.to_csv('../../data/criteo_data/valid_y.txt', header=None, index=False)"
   ]
  },
  {
   "cell_type": "code",
   "execution_count": null,
   "metadata": {},
   "outputs": [],
   "source": [
    "train_feature_index = pd.DataFrame(train_feature_index)\n",
    "train_feature_index.to_csv('../../data/criteo_data/train_index.txt', header=None, index=False, sep='\\t')\n",
    "\n",
    "train_feature_val = pd.DataFrame(train_feature_val)\n",
    "train_feature_val.to_csv('../../data/criteo_data/train_value.txt', header=None, index=False, sep='\\t')\n",
    "\n",
    "valid_feature_index = pd.DataFrame(valid_feature_index)\n",
    "valid_feature_index.to_csv('../../data/criteo_data/valid_index.txt', header=None, index=False, sep='\\t')\n",
    "\n",
    "valid_feature_val = pd.DataFrame(valid_feature_val)\n",
    "valid_feature_val.to_csv('../../data/criteo_data/valid_value.txt', header=None, index=False, sep='\\t')"
   ]
  },
  {
   "cell_type": "markdown",
   "metadata": {},
   "source": [
    "# Model"
   ]
  },
  {
   "cell_type": "code",
   "execution_count": 3,
   "metadata": {},
   "outputs": [],
   "source": [
    "BATCH_SIZE = 1024"
   ]
  },
  {
   "cell_type": "code",
   "execution_count": 4,
   "metadata": {},
   "outputs": [],
   "source": [
    "def get_batch_dataset(label_path, idx_path, value_path):\n",
    "    label = tf.data.TextLineDataset(label_path)\n",
    "    idx = tf.data.TextLineDataset(idx_path)\n",
    "    value = tf.data.TextLineDataset(value_path)\n",
    "\n",
    "    label = label.map(lambda x: tf.strings.to_number(tf.strings.split(x, sep='\\t')), num_parallel_calls=12)\n",
    "    idx = idx.map(lambda x: tf.strings.to_number(tf.strings.split(x, sep='\\t')), num_parallel_calls=12)\n",
    "    value = value.map(lambda x: tf.strings.to_number(tf.strings.split(x, sep='\\t')), num_parallel_calls=12)\n",
    "\n",
    "    batch_dataset = tf.data.Dataset.zip((label, idx, value))\n",
    "    batch_dataset = batch_dataset.shuffle(buffer_size=BATCH_SIZE*5)\n",
    "    batch_dataset = batch_dataset.batch(BATCH_SIZE)\n",
    "    batch_dataset = batch_dataset.prefetch(buffer_size=tf.data.experimental.AUTOTUNE)\n",
    "    return batch_dataset"
   ]
  },
  {
   "cell_type": "code",
   "execution_count": 44,
   "metadata": {},
   "outputs": [],
   "source": [
    "class DeepFM_layer(tf.keras.Model):\n",
    "    def __init__(self,\n",
    "                 num_feat,\n",
    "                 num_field,\n",
    "                 embedding_size=10,\n",
    "                 drop_keeps=[1,1,1],\n",
    "                 deep_layer_sizes=[64,64,64],\n",
    "                 reg_l1=0.01,\n",
    "                 reg_l2=1e-5):\n",
    "        super().__init__()\n",
    "        self.num_feat = num_feat\n",
    "        self.num_field = num_field\n",
    "        self.embedding_size = embedding_size\n",
    "        self.drop_keeps = drop_keeps\n",
    "        self.deep_layer_sizes = deep_layer_sizes\n",
    "        self.reg_l1 = reg_l1\n",
    "        self.reg_l2 = reg_l2\n",
    "        \n",
    "        # Embedding layer\n",
    "        self.embedding = tf.keras.layers.Embedding(num_feat, embedding_size)\n",
    "        \n",
    "        # FM part\n",
    "        self.fm_weight = tf.keras.layers.Embedding(num_feat, 1)\n",
    "        self.fm_bias = tf.Variable(tf.random.normal(shape=[1]))\n",
    "        \n",
    "        # Deep part\n",
    "        for i in range(len(deep_layer_sizes)):\n",
    "            setattr(self, 'dense_' + str(i), tf.keras.layers.Dense(deep_layer_sizes[i]))\n",
    "            setattr(self, 'batchNorm_' + str(i), tf.keras.layers.BatchNormalization())\n",
    "            setattr(self, 'activation_' + str(i), tf.keras.layers.Activation('relu'))\n",
    "            setattr(self, 'dropout_' + str(i), tf.keras.layers.Dropout(drop_keeps[i]))\n",
    "        \n",
    "        self.fc = tf.keras.layers.Dense(1, activation=None)\n",
    "    \n",
    "    def call(self, fea_index, fea_value):\n",
    "        fea_value = tf.expand_dims(fea_value, axis=-1)     # None * num_field * 1\n",
    "        \n",
    "        # FM first-order\n",
    "        fm_weight = self.fm_weight(fea_index)              # num_field * 1\n",
    "        fm_first = tf.reduce_sum(tf.multiply(fm_weight, fea_value), axis=2)   # None * num_field \n",
    "        # FM second-order\n",
    "        embedding = self.embedding(fea_index)              # num_field * embedding_size\n",
    "        embedding = tf.multiply(embedding, fea_value)      # None * num_field * embedding_size\n",
    "        sum_square = tf.square(tf.reduce_sum(embedding, axis=1))  # None * embedding_size\n",
    "        square_sum = tf.reduce_sum(tf.square(embedding), axis=1)  # None * embedding_size\n",
    "        fm_second = 0.5 * tf.subtract(sum_square, square_sum)\n",
    "        \n",
    "        fm_out = tf.concat([fm_first, fm_second], axis=1) # None * (num_field + embedding_size)\n",
    "        # Deep\n",
    "        y_deep = tf.reshape(embedding, shape=(-1, self.num_field * self.embedding_size))\n",
    "        for i in range(len(self.deep_layer_sizes)):\n",
    "            y_deep = getattr(self, 'dense_' + str(i))(y_deep)\n",
    "            y_deep = getattr(self, 'batchNorm_' + str(i))(y_deep)\n",
    "            y_deep = getattr(self, 'activation_' + str(i))(y_deep)\n",
    "            y_deep = getattr(self, 'dropout_' + str(i))(y_deep)\n",
    "        \n",
    "        #out\n",
    "        concat_in = tf.concat([fm_out, y_deep], axis=1)\n",
    "        out = self.fc(concat_in)\n",
    "        \n",
    "        return out"
   ]
  },
  {
   "cell_type": "code",
   "execution_count": 34,
   "metadata": {},
   "outputs": [],
   "source": [
    "def cross_entropy_loss(y_true, y_pred):\n",
    "    return tf.reduce_mean(tf.losses.binary_crossentropy(y_true, y_pred))"
   ]
  },
  {
   "cell_type": "code",
   "execution_count": 35,
   "metadata": {},
   "outputs": [],
   "source": [
    "def train_one_step(model, optimizer, idx, value, label):\n",
    "    with tf.GradientTape() as tape:\n",
    "        output = model(idx, value)\n",
    "        loss = cross_entropy_loss(y_true=label, y_pred=output)\n",
    "\n",
    "        reg_loss = []\n",
    "        for p in model.trainable_variables:\n",
    "            reg_loss.append(tf.nn.l2_loss(p))\n",
    "        reg_loss = tf.reduce_sum(tf.stack(reg_loss))\n",
    "        loss = loss + model.reg_l2 * reg_loss\n",
    "\n",
    "    grads = tape.gradient(loss, model.trainable_variables)\n",
    "    grads = [tf.clip_by_norm(g, 100) for g in grads]\n",
    "    optimizer.apply_gradients(grads_and_vars=zip(grads, model.trainable_variables))\n",
    "    return loss"
   ]
  },
  {
   "cell_type": "code",
   "execution_count": 36,
   "metadata": {},
   "outputs": [],
   "source": [
    "def train_model(model, train_batch_dataset, optimizer, epoch):\n",
    "    for batch_idx, (label, idx, value) in enumerate(train_batch_dataset):\n",
    "        if len(label) == 0:\n",
    "            break\n",
    "\n",
    "        loss = train_one_step(model, optimizer, idx, value, label)\n",
    "\n",
    "        if batch_idx % 100 == 0:\n",
    "            print('Train Epoch:{}, Step:{}, Loss:{:.6f}'.format(epoch, batch_idx, loss.numpy()))"
   ]
  },
  {
   "cell_type": "code",
   "execution_count": 37,
   "metadata": {},
   "outputs": [],
   "source": [
    "def test_model(model, test_batch_dataset):\n",
    "    pred_y, true_y = [], []\n",
    "    binaryloss = tf.keras.metrics.BinaryCrossentropy()\n",
    "    for batch_idx, (label, idx, value) in enumerate(test_batch_dataset):\n",
    "        if len(label) == 0:\n",
    "            break\n",
    "\n",
    "        output = model(idx, value)\n",
    "        binaryloss.update_state(y_true=label, y_pred=output)\n",
    "        pred_y.extend(list(output.numpy()))\n",
    "        true_y.extend(list(label.numpy()))\n",
    "    print('Roc AUC: %.5f' % roc_auc_score(y_true=np.array(true_y), y_score=np.array(pred_y)))\n",
    "    print('LogLoss: %.5f' % binaryloss.result())"
   ]
  },
  {
   "cell_type": "code",
   "execution_count": 45,
   "metadata": {},
   "outputs": [],
   "source": [
    "deep_fm = DeepFM_layer(num_feat=2605299, num_field=39, embedding_size=8,\n",
    "                       drop_keeps=[0.5, 0.5, 0.5], deep_layer_sizes=[400,400,400],\n",
    "                       reg_l1=0.01, reg_l2=1e-5)"
   ]
  },
  {
   "cell_type": "code",
   "execution_count": 38,
   "metadata": {},
   "outputs": [],
   "source": [
    "train_label_path='../../data/criteo_data/train_y.txt'\n",
    "train_idx_path='../../data/criteo_data/train_index.txt'\n",
    "train_value_path='../../data/criteo_data/train_value.txt'\n",
    "\n",
    "valid_label_path='../../data/criteo_data/valid_y.txt'\n",
    "valid_idx_path='../../data/criteo_data/valid_index.txt'\n",
    "valid_value_path='../../data/criteo_data/valid_value.txt'"
   ]
  },
  {
   "cell_type": "code",
   "execution_count": 39,
   "metadata": {},
   "outputs": [],
   "source": [
    "train_batch_dataset = get_batch_dataset(train_label_path, train_idx_path, train_value_path)\n",
    "test_batch_dataset = get_batch_dataset(valid_label_path, valid_idx_path, valid_value_path)"
   ]
  },
  {
   "cell_type": "code",
   "execution_count": 46,
   "metadata": {},
   "outputs": [
    {
     "name": "stdout",
     "output_type": "stream",
     "text": [
      "Train Epoch:0, Step:0, Loss:2.897695\n",
      "Train Epoch:0, Step:100, Loss:0.511630\n",
      "Train Epoch:0, Step:200, Loss:0.522743\n",
      "Train Epoch:0, Step:300, Loss:0.493887\n",
      "Train Epoch:0, Step:400, Loss:0.509999\n",
      "Train Epoch:0, Step:500, Loss:0.476522\n",
      "Train Epoch:0, Step:600, Loss:0.486773\n",
      "Train Epoch:0, Step:700, Loss:0.492809\n",
      "Train Epoch:0, Step:800, Loss:0.489716\n",
      "Train Epoch:0, Step:900, Loss:0.496157\n",
      "Train Epoch:0, Step:1000, Loss:0.530928\n",
      "Train Epoch:0, Step:1100, Loss:0.478121\n",
      "Train Epoch:0, Step:1200, Loss:0.516640\n",
      "Train Epoch:0, Step:1300, Loss:0.486139\n",
      "Train Epoch:0, Step:1400, Loss:0.479957\n",
      "Train Epoch:0, Step:1500, Loss:0.516011\n",
      "Train Epoch:0, Step:1600, Loss:0.456608\n",
      "Train Epoch:0, Step:1700, Loss:0.482456\n",
      "Train Epoch:1, Step:0, Loss:0.482918\n",
      "Train Epoch:1, Step:100, Loss:0.480385\n",
      "Train Epoch:1, Step:200, Loss:0.458799\n",
      "Train Epoch:1, Step:300, Loss:0.501760\n",
      "Train Epoch:1, Step:400, Loss:0.472458\n",
      "Train Epoch:1, Step:500, Loss:0.502384\n",
      "Train Epoch:1, Step:600, Loss:0.479668\n",
      "Train Epoch:1, Step:700, Loss:0.483213\n",
      "Train Epoch:1, Step:800, Loss:0.454768\n",
      "Train Epoch:1, Step:900, Loss:0.456312\n",
      "Train Epoch:1, Step:1000, Loss:0.439721\n",
      "Train Epoch:1, Step:1100, Loss:0.426546\n",
      "Train Epoch:1, Step:1200, Loss:0.550362\n",
      "Train Epoch:1, Step:1300, Loss:0.507905\n",
      "Train Epoch:1, Step:1400, Loss:0.485096\n",
      "Train Epoch:1, Step:1500, Loss:0.438491\n",
      "Train Epoch:1, Step:1600, Loss:0.441595\n",
      "Train Epoch:1, Step:1700, Loss:0.479510\n",
      "Train Epoch:2, Step:0, Loss:0.490831\n",
      "Train Epoch:2, Step:100, Loss:0.413104\n",
      "Train Epoch:2, Step:200, Loss:0.436156\n",
      "Train Epoch:2, Step:300, Loss:0.441132\n",
      "Train Epoch:2, Step:400, Loss:0.453927\n",
      "Train Epoch:2, Step:500, Loss:0.414081\n",
      "Train Epoch:2, Step:600, Loss:0.350917\n",
      "Train Epoch:2, Step:700, Loss:0.406648\n",
      "Train Epoch:2, Step:800, Loss:0.396792\n",
      "Train Epoch:2, Step:900, Loss:0.412794\n",
      "Train Epoch:2, Step:1000, Loss:0.476851\n",
      "Train Epoch:2, Step:1100, Loss:0.475021\n",
      "Train Epoch:2, Step:1200, Loss:0.416193\n",
      "Train Epoch:2, Step:1300, Loss:0.405442\n",
      "Train Epoch:2, Step:1400, Loss:0.465033\n",
      "Train Epoch:2, Step:1500, Loss:0.405807\n",
      "Train Epoch:2, Step:1600, Loss:0.440604\n",
      "Train Epoch:2, Step:1700, Loss:0.417883\n",
      "Train Epoch:3, Step:0, Loss:0.473045\n",
      "Train Epoch:3, Step:100, Loss:0.445691\n",
      "Train Epoch:3, Step:200, Loss:0.464643\n",
      "Train Epoch:3, Step:300, Loss:0.469246\n",
      "Train Epoch:3, Step:400, Loss:0.466757\n",
      "Train Epoch:3, Step:500, Loss:0.420508\n",
      "Train Epoch:3, Step:600, Loss:0.406469\n",
      "Train Epoch:3, Step:700, Loss:0.426175\n",
      "Train Epoch:3, Step:800, Loss:0.350677\n",
      "Train Epoch:3, Step:900, Loss:0.384066\n",
      "Train Epoch:3, Step:1000, Loss:0.402436\n",
      "Train Epoch:3, Step:1100, Loss:0.344663\n",
      "Train Epoch:3, Step:1200, Loss:0.421108\n",
      "Train Epoch:3, Step:1300, Loss:0.357118\n",
      "Train Epoch:3, Step:1400, Loss:0.392278\n",
      "Train Epoch:3, Step:1500, Loss:0.390101\n",
      "Train Epoch:3, Step:1600, Loss:0.375514\n",
      "Train Epoch:3, Step:1700, Loss:0.323465\n",
      "Train Epoch:4, Step:0, Loss:0.361121\n",
      "Train Epoch:4, Step:100, Loss:0.340556\n",
      "Train Epoch:4, Step:200, Loss:0.402927\n",
      "Train Epoch:4, Step:300, Loss:0.373686\n",
      "Train Epoch:4, Step:400, Loss:0.480096\n",
      "Train Epoch:4, Step:500, Loss:0.376365\n",
      "Train Epoch:4, Step:600, Loss:0.396366\n",
      "Train Epoch:4, Step:700, Loss:0.439401\n",
      "Train Epoch:4, Step:800, Loss:0.400120\n",
      "Train Epoch:4, Step:900, Loss:0.381996\n",
      "Train Epoch:4, Step:1000, Loss:0.419517\n",
      "Train Epoch:4, Step:1100, Loss:0.383936\n",
      "Train Epoch:4, Step:1200, Loss:0.376347\n",
      "Train Epoch:4, Step:1300, Loss:0.474750\n",
      "Train Epoch:4, Step:1400, Loss:0.428575\n",
      "Train Epoch:4, Step:1500, Loss:0.366668\n",
      "Train Epoch:4, Step:1600, Loss:0.366748\n",
      "Train Epoch:4, Step:1700, Loss:0.360332\n",
      "Wall time: 43min 6s\n"
     ]
    }
   ],
   "source": [
    "%%time\n",
    "optimizer = tf.keras.optimizers.Adam(learning_rate=1e-3)\n",
    "for epoch in range(5):\n",
    "    train_model(deep_fm, train_batch_dataset, optimizer, epoch)"
   ]
  },
  {
   "cell_type": "code",
   "execution_count": 47,
   "metadata": {},
   "outputs": [
    {
     "name": "stdout",
     "output_type": "stream",
     "text": [
      "Roc AUC: 0.73534\n",
      "LogLoss: 0.81725\n"
     ]
    }
   ],
   "source": [
    "test_model(deep_fm, test_batch_dataset)"
   ]
  },
  {
   "cell_type": "code",
   "execution_count": null,
   "metadata": {},
   "outputs": [],
   "source": []
  }
 ],
 "metadata": {
  "kernelspec": {
   "display_name": "Python 3",
   "language": "python",
   "name": "python3"
  },
  "language_info": {
   "codemirror_mode": {
    "name": "ipython",
    "version": 3
   },
   "file_extension": ".py",
   "mimetype": "text/x-python",
   "name": "python",
   "nbconvert_exporter": "python",
   "pygments_lexer": "ipython3",
   "version": "3.7.4"
  }
 },
 "nbformat": 4,
 "nbformat_minor": 2
}

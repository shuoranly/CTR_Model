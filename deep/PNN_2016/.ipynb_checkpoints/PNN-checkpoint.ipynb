{
 "cells": [
  {
   "cell_type": "code",
   "execution_count": 1,
   "metadata": {},
   "outputs": [],
   "source": [
    "import tensorflow as tf\n",
    "import pandas as pd\n",
    "import numpy as np\n",
    "import math\n",
    "from sklearn.metrics import roc_auc_score\n",
    "from sklearn.preprocessing import  MinMaxScaler\n",
    "from sklearn.model_selection import train_test_split\n",
    "import pickle\n",
    "import gc"
   ]
  },
  {
   "cell_type": "markdown",
   "metadata": {},
   "source": [
    "# Data\n",
    "label I1-I13 C1-C26"
   ]
  },
  {
   "cell_type": "code",
   "execution_count": 2,
   "metadata": {},
   "outputs": [
    {
     "data": {
      "text/plain": [
       "22"
      ]
     },
     "execution_count": 2,
     "metadata": {},
     "output_type": "execute_result"
    }
   ],
   "source": [
    "data = pd.read_csv('../../data/criteo_data/train.txt', sep='\\t', header=None)\n",
    "y = data[0]\n",
    "X = data.drop([0], axis=1)\n",
    "\n",
    "del data\n",
    "gc.collect()"
   ]
  },
  {
   "cell_type": "code",
   "execution_count": 3,
   "metadata": {},
   "outputs": [],
   "source": [
    "continuous_feature = list(range(1,14))\n",
    "category_feature = list(range(14, 40))\n",
    "X[continuous_feature] = X[continuous_feature].fillna(0, )\n",
    "X[category_feature] = X[category_feature].fillna('-1', )\n",
    "mms = MinMaxScaler(feature_range=(0, 1))\n",
    "X[continuous_feature] = mms.fit_transform(X[continuous_feature])"
   ]
  },
  {
   "cell_type": "code",
   "execution_count": 4,
   "metadata": {},
   "outputs": [],
   "source": [
    "X_trian, X_valid, y_train, y_valid = train_test_split(X, y)"
   ]
  },
  {
   "cell_type": "code",
   "execution_count": 5,
   "metadata": {},
   "outputs": [],
   "source": [
    "class DataParse:\n",
    "    def __init__(self, category_feature, continuous_feature, ignore_feature=[], feature_dict={}, feature_size=0, field_size=0):\n",
    "        self.feature_dict = feature_dict\n",
    "        self.feature_size = feature_size\n",
    "        self.field_size = field_size\n",
    "        self.ignore_feature = ignore_feature\n",
    "        self.category_feature = category_feature\n",
    "        self.continuous_feature = continuous_feature\n",
    "    \n",
    "    def FeatureDictionary(self, train, test):\n",
    "        \"\"\"\n",
    "        目的是给每一个特征维度都进行编号。\n",
    "        1. 对于离散特征，one-hot之后每一列都是一个新的特征维度(计算编号时，不算0)。所以，原来的一维度对应的是很多维度，编号也是不同的。\n",
    "        2. 对于连续特征，原来的一维特征依旧是一维特征。\n",
    "        返回一个feat_dict，用于根据原特征名称和特征取值 快速查询出 对应的特征编号。\n",
    "        train: 原始训练集\n",
    "        test:  原始测试集\n",
    "        continuous_feature: 所有数值型特征\n",
    "        ignore_feature: 所有忽略的特征. 除了数值型和忽略的，剩下的全部认为是离散型\n",
    "        feat_dict, feat_size\n",
    "             1. feat_size: one-hot之后总的特征维度。\n",
    "             2. feat_dict是一个{}， key是特征string的col_name, value可能是编号（int），可能也是一个字典。\n",
    "             如果原特征是连续特征： value就是int，表示对应的特征编号；\n",
    "             如果原特征是离散特征：value就是dict，里面是根据离散特征的 实际取值 查询 该维度的特征编号。 因为离散特征one-hot之后，\n",
    "             一个取值就是一个维度，而一个维度就对应一个编号。\n",
    "        \"\"\"\n",
    "        df = pd.concat([train, test], axis=0)\n",
    "        feat_dict = {}\n",
    "        total_cnt = 0\n",
    "        \n",
    "        for col in df.columns:\n",
    "            # 连续特征只有一个编号\n",
    "            if col in self.continuous_feature:\n",
    "                feat_dict[col] = total_cnt\n",
    "                total_cnt = total_cnt + 1\n",
    "            elif col in self.category_feature:\n",
    "                unique_vals = df[col].unique()\n",
    "                unique_cnt = df[col].nunique()\n",
    "                feat_dict[col] = dict(zip(unique_vals, range(total_cnt, total_cnt + unique_cnt)))\n",
    "                total_cnt = total_cnt + unique_cnt\n",
    "        \n",
    "        self.feature_size = total_cnt\n",
    "        self.feature_dict = feat_dict\n",
    "        print('feat_dict=', feat_dict)\n",
    "        print('feature_size=', total_cnt)\n",
    "    \n",
    "    def parse(self, df):\n",
    "        dfi = df.copy()\n",
    "        dfv = df.copy()\n",
    "        for col in dfi.columns:\n",
    "            if col in self.ignore_feature:\n",
    "                dfi.drop([col], axis=1, inplace=True)\n",
    "                dfv.drop([col], axis=1, inplace=True)\n",
    "\n",
    "            elif col in self.continuous_feature:  # 连续特征1个维度，对应1个编号，这个编号是一个定值\n",
    "                dfi[col] = self.feature_dict[col]\n",
    "\n",
    "            elif col in self.category_feature:  # 离散特征。不同取值对应不同的特征维度，编号也是不同的。\n",
    "                dfi[col] = dfi[col].map(self.feature_dict[col])\n",
    "                dfv[col] = 1.0\n",
    "\n",
    "        feature_index = dfi.values.tolist()\n",
    "        feature_val = dfv.values.tolist()\n",
    "        self.field_size = len(feature_index[0])\n",
    "        del dfi, dfv\n",
    "        gc.collect()\n",
    "\n",
    "        return feature_index, feature_val"
   ]
  },
  {
   "cell_type": "code",
   "execution_count": 6,
   "metadata": {},
   "outputs": [
    {
     "name": "stderr",
     "output_type": "stream",
     "text": [
      "IOPub data rate exceeded.\n",
      "The notebook server will temporarily stop sending output\n",
      "to the client in order to avoid crashing it.\n",
      "To change this limit, set the config variable\n",
      "`--NotebookApp.iopub_data_rate_limit`.\n",
      "\n",
      "Current values:\n",
      "NotebookApp.iopub_data_rate_limit=1000000.0 (bytes/sec)\n",
      "NotebookApp.rate_limit_window=3.0 (secs)\n",
      "\n"
     ]
    }
   ],
   "source": [
    "dataParse = DataParse(continuous_feature=continuous_feature, category_feature=category_feature)\n",
    "dataParse.FeatureDictionary(X_trian, X_valid)\n",
    "train_feature_index, train_feature_val = dataParse.parse(X_trian)\n",
    "valid_feature_index, valid_feature_val = dataParse.parse(X_valid)"
   ]
  },
  {
   "cell_type": "code",
   "execution_count": 7,
   "metadata": {},
   "outputs": [
    {
     "name": "stdout",
     "output_type": "stream",
     "text": [
      "feature_num 2605299\n",
      "field_num 39\n"
     ]
    }
   ],
   "source": [
    "print('feature_num', dataParse.feature_size)\n",
    "print('field_num', dataParse.field_size)"
   ]
  },
  {
   "cell_type": "markdown",
   "metadata": {},
   "source": [
    "## Persistent"
   ]
  },
  {
   "cell_type": "code",
   "execution_count": 8,
   "metadata": {},
   "outputs": [
    {
     "name": "stderr",
     "output_type": "stream",
     "text": [
      "D:\\Anaconda3\\lib\\site-packages\\ipykernel_launcher.py:1: FutureWarning: The signature of `Series.to_csv` was aligned to that of `DataFrame.to_csv`, and argument 'header' will change its default value from False to True: please pass an explicit value to suppress this warning.\n",
      "  \"\"\"Entry point for launching an IPython kernel.\n",
      "D:\\Anaconda3\\lib\\site-packages\\ipykernel_launcher.py:2: FutureWarning: The signature of `Series.to_csv` was aligned to that of `DataFrame.to_csv`, and argument 'header' will change its default value from False to True: please pass an explicit value to suppress this warning.\n",
      "  \n"
     ]
    }
   ],
   "source": [
    "y_train.to_csv('../../data/criteo_data/train_y.txt', header=None, index=False)\n",
    "y_valid.to_csv('../../data/criteo_data/valid_y.txt', header=None, index=False)"
   ]
  },
  {
   "cell_type": "code",
   "execution_count": 4,
   "metadata": {},
   "outputs": [],
   "source": [
    "train_feature_index = pd.DataFrame(train_feature_index)\n",
    "train_feature_index.to_csv('../../data/criteo_data/train_index.txt', header=None, index=False, sep='\\t')\n",
    "\n",
    "train_feature_val = pd.DataFrame(train_feature_val)\n",
    "train_feature_val.to_csv('../../data/criteo_data/train_value.txt', header=None, index=False, sep='\\t')\n",
    "\n",
    "valid_feature_index = pd.DataFrame(valid_feature_index)\n",
    "valid_feature_index.to_csv('../../data/criteo_data/valid_index.txt', header=None, index=False, sep='\\t')\n",
    "\n",
    "valid_feature_val = pd.DataFrame(valid_feature_val)\n",
    "valid_feature_val.to_csv('../../data/criteo_data/valid_value.txt', header=None, index=False, sep='\\t')"
   ]
  },
  {
   "cell_type": "markdown",
   "metadata": {},
   "source": [
    "# Model"
   ]
  },
  {
   "cell_type": "code",
   "execution_count": 31,
   "metadata": {},
   "outputs": [],
   "source": [
    "BATCH_SIZE = 256"
   ]
  },
  {
   "cell_type": "code",
   "execution_count": 32,
   "metadata": {},
   "outputs": [],
   "source": [
    "def get_batch_dataset(label_path, idx_path, value_path):\n",
    "    label = tf.data.TextLineDataset(label_path)\n",
    "    idx = tf.data.TextLineDataset(idx_path)\n",
    "    value = tf.data.TextLineDataset(value_path)\n",
    "\n",
    "    label = label.map(lambda x: tf.strings.to_number(tf.strings.split(x, sep='\\t')), num_parallel_calls=12)\n",
    "    idx = idx.map(lambda x: tf.strings.to_number(tf.strings.split(x, sep='\\t')), num_parallel_calls=12)\n",
    "    value = value.map(lambda x: tf.strings.to_number(tf.strings.split(x, sep='\\t')), num_parallel_calls=12)\n",
    "\n",
    "    batch_dataset = tf.data.Dataset.zip((label, idx, value))\n",
    "    batch_dataset = batch_dataset.shuffle(buffer_size=2048)\n",
    "    batch_dataset = batch_dataset.batch(BATCH_SIZE)\n",
    "    batch_dataset = batch_dataset.prefetch(buffer_size=tf.data.experimental.AUTOTUNE)\n",
    "    return batch_dataset"
   ]
  },
  {
   "cell_type": "code",
   "execution_count": 39,
   "metadata": {},
   "outputs": [],
   "source": [
    "class PNN_layer(tf.keras.Model):\n",
    "\n",
    "    def __init__(self, num_feat, num_field, dropout_deep, deep_layer_sizes, product_layer_dim=10,\n",
    "                 reg_l1=0.01, reg_l2=1e-5, embedding_size=10, product_type='outer'):\n",
    "        super().__init__()   # Python2 下使用 super(PNN_layer, self).__init__()\n",
    "        self.reg_l1 = reg_l1\n",
    "        self.reg_l2 = reg_l2\n",
    "        self.num_feat = num_feat                                   # Denoted as\n",
    "        self.num_field = num_field                                 # Denoted as N\n",
    "        self.product_layer_dim = product_layer_dim                 # Denoted as D1\n",
    "        self.dropout_deep = dropout_deep\n",
    "\n",
    "        # Embedding\n",
    "        self.feat_embeddings = tf.keras.layers.Embedding(num_feat, embedding_size, embeddings_initializer='uniform')\n",
    "\n",
    "        initializer = tf.initializers.GlorotUniform()\n",
    "\n",
    "        # linear part\n",
    "        self.linear_weights = tf.Variable(initializer(shape=(product_layer_dim, num_field, embedding_size))) # D1*N*M\n",
    "\n",
    "        # quadratic part\n",
    "        self.product_type = product_type\n",
    "        if product_type == 'inner':\n",
    "            self.theta = tf.Variable(initializer(shape=(product_layer_dim, num_field)))  # D1 * N\n",
    "        else:\n",
    "            self.quadratic_weights = tf.Variable(initializer(shape=(product_layer_dim, embedding_size,\n",
    "                                                                    embedding_size)))   # D1 * M * M\n",
    "       \n",
    "        self.product_bias = tf.Variable(tf.random.normal(shape=[product_layer_dim]))\n",
    "        \n",
    "        # fc layer\n",
    "        self.deep_layer_sizes = deep_layer_sizes\n",
    "\n",
    "        # 神经网络方面的参数\n",
    "        for i in range(len(deep_layer_sizes)):\n",
    "            setattr(self, 'dense_' + str(i), tf.keras.layers.Dense(deep_layer_sizes[i]))\n",
    "            setattr(self, 'batchNorm_' + str(i), tf.keras.layers.BatchNormalization())\n",
    "            setattr(self, 'activation_' + str(i), tf.keras.layers.Activation('relu'))\n",
    "            setattr(self, 'dropout_' + str(i), tf.keras.layers.Dropout(dropout_deep[i]))\n",
    "\n",
    "        # last layer\n",
    "        self.fc = tf.keras.layers.Dense(1, activation=None, use_bias=True)\n",
    "\n",
    "    def call(self, feat_index, feat_value):\n",
    "        # embedding part\n",
    "        feat_embedding = self.feat_embeddings(feat_index)          # Batch * N * M\n",
    "\n",
    "        # linear part\n",
    "        lz = tf.einsum('bnm,dnm->bd', feat_embedding, self.linear_weights)  # Batch * D1\n",
    "\n",
    "        # quadratic part\n",
    "        if self.product_type == 'inner':\n",
    "            theta = tf.einsum('bnm,dn->bdnm', feat_embedding, self.theta)   # Batch * D1 * N * M\n",
    "            lp = tf.einsum('bdnm,bdnm->bd', theta, theta)\n",
    "        else:\n",
    "            embed_sum = tf.reduce_sum(feat_embedding, axis=1)\n",
    "            p = tf.einsum('bm,bn->bmn', embed_sum, embed_sum)\n",
    "            lp = tf.einsum('bmn,dmn->bd', p, self.quadratic_weights)  # Batch * D1\n",
    "\n",
    "        #y_deep = tf.concat((lz, lp), axis=1)\n",
    "        y_deep = tf.add(lz, lp)\n",
    "        y_deep = tf.nn.relu(tf.add(y_deep, self.product_bias))\n",
    "        y_deep = tf.keras.layers.Dropout(self.dropout_deep[0])(y_deep)\n",
    "\n",
    "        for i in range(len(self.deep_layer_sizes)):\n",
    "            y_deep = getattr(self, 'dense_' + str(i))(y_deep)\n",
    "            y_deep = getattr(self, 'batchNorm_' + str(i))(y_deep)\n",
    "            y_deep = getattr(self, 'activation_' + str(i))(y_deep)\n",
    "            y_deep = getattr(self, 'dropout_' + str(i))(y_deep)\n",
    "\n",
    "        output = self.fc(y_deep)\n",
    "        return output"
   ]
  },
  {
   "cell_type": "code",
   "execution_count": 40,
   "metadata": {},
   "outputs": [],
   "source": [
    "def cross_entropy_loss(y_true, y_pred):\n",
    "    return tf.reduce_mean(tf.losses.binary_crossentropy(y_true, y_pred))"
   ]
  },
  {
   "cell_type": "code",
   "execution_count": 41,
   "metadata": {},
   "outputs": [],
   "source": [
    "def train_one_step(model, optimizer, idx, value, label):\n",
    "    with tf.GradientTape() as tape:\n",
    "        output = model(idx, value)\n",
    "        loss = cross_entropy_loss(y_true=label, y_pred=output)\n",
    "\n",
    "        reg_loss = []\n",
    "        for p in model.trainable_variables:\n",
    "            reg_loss.append(tf.nn.l2_loss(p))\n",
    "        reg_loss = tf.reduce_sum(tf.stack(reg_loss))\n",
    "        loss = loss + model.reg_l2 * reg_loss\n",
    "\n",
    "    grads = tape.gradient(loss, model.trainable_variables)\n",
    "    grads = [tf.clip_by_norm(g, 100) for g in grads]\n",
    "    optimizer.apply_gradients(grads_and_vars=zip(grads, model.trainable_variables))\n",
    "    return loss"
   ]
  },
  {
   "cell_type": "code",
   "execution_count": 42,
   "metadata": {},
   "outputs": [],
   "source": [
    "def train_model(model, train_batch_dataset, optimizer, epoch):\n",
    "    for batch_idx, (label, idx, value) in enumerate(train_batch_dataset):\n",
    "        if len(label) == 0:\n",
    "            break\n",
    "\n",
    "        loss = train_one_step(model, optimizer, idx, value, label)\n",
    "\n",
    "        if batch_idx % 100 == 0:\n",
    "            print('Train Epoch:{}, Step:{}, Loss:{:.6f}'.format(epoch, batch_idx, loss.numpy()))"
   ]
  },
  {
   "cell_type": "code",
   "execution_count": 43,
   "metadata": {},
   "outputs": [],
   "source": [
    "def test_model(model, test_batch_dataset):\n",
    "    pred_y, true_y = [], []\n",
    "    binaryloss = tf.keras.metrics.BinaryCrossentropy()\n",
    "    for batch_idx, (label, idx, value) in enumerate(test_batch_dataset):\n",
    "        if len(label) == 0:\n",
    "            break\n",
    "\n",
    "        output = model(idx, value)\n",
    "        binaryloss.update_state(y_true=label, y_pred=output)\n",
    "        pred_y.extend(list(output.numpy()))\n",
    "        true_y.extend(list(label.numpy()))\n",
    "    print('Roc AUC: %.5f' % roc_auc_score(y_true=np.array(true_y), y_score=np.array(pred_y)))\n",
    "    print('LogLoss: %.5f' % binaryloss.result())"
   ]
  },
  {
   "cell_type": "code",
   "execution_count": 44,
   "metadata": {},
   "outputs": [],
   "source": [
    "pnn = PNN_layer(num_feat=2605299, num_field=39, dropout_deep=[0.5, 0.5, 0.5],\n",
    "                deep_layer_sizes=[32, 23], product_layer_dim=10,\n",
    "                reg_l1=0.01, reg_l2=1e-5, embedding_size=10, product_type='outer')"
   ]
  },
  {
   "cell_type": "code",
   "execution_count": 45,
   "metadata": {},
   "outputs": [],
   "source": [
    "train_label_path='../../data/criteo_data/train_y.txt'\n",
    "train_idx_path='../../data/criteo_data/train_index.txt'\n",
    "train_value_path='../../data/criteo_data/train_value.txt'\n",
    "\n",
    "valid_label_path='../../data/criteo_data/valid_y.txt'\n",
    "valid_idx_path='../../data/criteo_data/valid_index.txt'\n",
    "valid_value_path='../../data/criteo_data/valid_value.txt'"
   ]
  },
  {
   "cell_type": "code",
   "execution_count": 46,
   "metadata": {},
   "outputs": [],
   "source": [
    "train_batch_dataset = get_batch_dataset(train_label_path, train_idx_path, train_value_path)\n",
    "test_batch_dataset = get_batch_dataset(valid_label_path, valid_idx_path, valid_value_path)"
   ]
  },
  {
   "cell_type": "code",
   "execution_count": 47,
   "metadata": {
    "scrolled": true
   },
   "outputs": [
    {
     "name": "stdout",
     "output_type": "stream",
     "text": [
      "Train Epoch:0, Step:0, Loss:0.721899\n",
      "Train Epoch:0, Step:1000, Loss:0.500752\n",
      "Train Epoch:0, Step:2000, Loss:0.536753\n",
      "Train Epoch:0, Step:3000, Loss:0.545921\n",
      "Train Epoch:0, Step:4000, Loss:0.508643\n",
      "Train Epoch:0, Step:5000, Loss:0.490466\n"
     ]
    },
    {
     "ename": "KeyboardInterrupt",
     "evalue": "",
     "output_type": "error",
     "traceback": [
      "\u001b[1;31m---------------------------------------------------------------------------\u001b[0m",
      "\u001b[1;31mKeyboardInterrupt\u001b[0m                         Traceback (most recent call last)",
      "\u001b[1;32m<timed exec>\u001b[0m in \u001b[0;36m<module>\u001b[1;34m\u001b[0m\n",
      "\u001b[1;32m<ipython-input-42-13f6bbdee55f>\u001b[0m in \u001b[0;36mtrain_model\u001b[1;34m(model, train_batch_dataset, optimizer, epoch)\u001b[0m\n\u001b[0;32m      4\u001b[0m             \u001b[1;32mbreak\u001b[0m\u001b[1;33m\u001b[0m\u001b[1;33m\u001b[0m\u001b[0m\n\u001b[0;32m      5\u001b[0m \u001b[1;33m\u001b[0m\u001b[0m\n\u001b[1;32m----> 6\u001b[1;33m         \u001b[0mloss\u001b[0m \u001b[1;33m=\u001b[0m \u001b[0mtrain_one_step\u001b[0m\u001b[1;33m(\u001b[0m\u001b[0mmodel\u001b[0m\u001b[1;33m,\u001b[0m \u001b[0moptimizer\u001b[0m\u001b[1;33m,\u001b[0m \u001b[0midx\u001b[0m\u001b[1;33m,\u001b[0m \u001b[0mvalue\u001b[0m\u001b[1;33m,\u001b[0m \u001b[0mlabel\u001b[0m\u001b[1;33m)\u001b[0m\u001b[1;33m\u001b[0m\u001b[1;33m\u001b[0m\u001b[0m\n\u001b[0m\u001b[0;32m      7\u001b[0m \u001b[1;33m\u001b[0m\u001b[0m\n\u001b[0;32m      8\u001b[0m         \u001b[1;32mif\u001b[0m \u001b[0mbatch_idx\u001b[0m \u001b[1;33m%\u001b[0m \u001b[1;36m1000\u001b[0m \u001b[1;33m==\u001b[0m \u001b[1;36m0\u001b[0m\u001b[1;33m:\u001b[0m\u001b[1;33m\u001b[0m\u001b[1;33m\u001b[0m\u001b[0m\n",
      "\u001b[1;32m<ipython-input-41-de675d0eec24>\u001b[0m in \u001b[0;36mtrain_one_step\u001b[1;34m(model, optimizer, idx, value, label)\u001b[0m\n\u001b[0;32m      6\u001b[0m         \u001b[0mreg_loss\u001b[0m \u001b[1;33m=\u001b[0m \u001b[1;33m[\u001b[0m\u001b[1;33m]\u001b[0m\u001b[1;33m\u001b[0m\u001b[1;33m\u001b[0m\u001b[0m\n\u001b[0;32m      7\u001b[0m         \u001b[1;32mfor\u001b[0m \u001b[0mp\u001b[0m \u001b[1;32min\u001b[0m \u001b[0mmodel\u001b[0m\u001b[1;33m.\u001b[0m\u001b[0mtrainable_variables\u001b[0m\u001b[1;33m:\u001b[0m\u001b[1;33m\u001b[0m\u001b[1;33m\u001b[0m\u001b[0m\n\u001b[1;32m----> 8\u001b[1;33m             \u001b[0mreg_loss\u001b[0m\u001b[1;33m.\u001b[0m\u001b[0mappend\u001b[0m\u001b[1;33m(\u001b[0m\u001b[0mtf\u001b[0m\u001b[1;33m.\u001b[0m\u001b[0mnn\u001b[0m\u001b[1;33m.\u001b[0m\u001b[0ml2_loss\u001b[0m\u001b[1;33m(\u001b[0m\u001b[0mp\u001b[0m\u001b[1;33m)\u001b[0m\u001b[1;33m)\u001b[0m\u001b[1;33m\u001b[0m\u001b[1;33m\u001b[0m\u001b[0m\n\u001b[0m\u001b[0;32m      9\u001b[0m         \u001b[0mreg_loss\u001b[0m \u001b[1;33m=\u001b[0m \u001b[0mtf\u001b[0m\u001b[1;33m.\u001b[0m\u001b[0mreduce_sum\u001b[0m\u001b[1;33m(\u001b[0m\u001b[0mtf\u001b[0m\u001b[1;33m.\u001b[0m\u001b[0mstack\u001b[0m\u001b[1;33m(\u001b[0m\u001b[0mreg_loss\u001b[0m\u001b[1;33m)\u001b[0m\u001b[1;33m)\u001b[0m\u001b[1;33m\u001b[0m\u001b[1;33m\u001b[0m\u001b[0m\n\u001b[0;32m     10\u001b[0m         \u001b[0mloss\u001b[0m \u001b[1;33m=\u001b[0m \u001b[0mloss\u001b[0m \u001b[1;33m+\u001b[0m \u001b[0mmodel\u001b[0m\u001b[1;33m.\u001b[0m\u001b[0mreg_l2\u001b[0m \u001b[1;33m*\u001b[0m \u001b[0mreg_loss\u001b[0m\u001b[1;33m\u001b[0m\u001b[1;33m\u001b[0m\u001b[0m\n",
      "\u001b[1;32mD:\\Anaconda3\\lib\\site-packages\\tensorflow_core\\python\\ops\\gen_nn_ops.py\u001b[0m in \u001b[0;36ml2_loss\u001b[1;34m(t, name)\u001b[0m\n\u001b[0;32m   5097\u001b[0m       _result = _pywrap_tensorflow.TFE_Py_FastPathExecute(\n\u001b[0;32m   5098\u001b[0m         \u001b[0m_ctx\u001b[0m\u001b[1;33m.\u001b[0m\u001b[0m_context_handle\u001b[0m\u001b[1;33m,\u001b[0m \u001b[0m_ctx\u001b[0m\u001b[1;33m.\u001b[0m\u001b[0m_thread_local_data\u001b[0m\u001b[1;33m.\u001b[0m\u001b[0mdevice_name\u001b[0m\u001b[1;33m,\u001b[0m \u001b[1;34m\"L2Loss\"\u001b[0m\u001b[1;33m,\u001b[0m\u001b[1;33m\u001b[0m\u001b[1;33m\u001b[0m\u001b[0m\n\u001b[1;32m-> 5099\u001b[1;33m         name, _ctx._post_execution_callbacks, t)\n\u001b[0m\u001b[0;32m   5100\u001b[0m       \u001b[1;32mreturn\u001b[0m \u001b[0m_result\u001b[0m\u001b[1;33m\u001b[0m\u001b[1;33m\u001b[0m\u001b[0m\n\u001b[0;32m   5101\u001b[0m     \u001b[1;32mexcept\u001b[0m \u001b[0m_core\u001b[0m\u001b[1;33m.\u001b[0m\u001b[0m_FallbackException\u001b[0m\u001b[1;33m:\u001b[0m\u001b[1;33m\u001b[0m\u001b[1;33m\u001b[0m\u001b[0m\n",
      "\u001b[1;31mKeyboardInterrupt\u001b[0m: "
     ]
    }
   ],
   "source": [
    "%%time\n",
    "optimizer = tf.keras.optimizers.Adam(learning_rate=1e-3)\n",
    "for epoch in range(5):\n",
    "    train_model(pnn, train_batch_dataset, optimizer, epoch)"
   ]
  },
  {
   "cell_type": "code",
   "execution_count": 48,
   "metadata": {},
   "outputs": [
    {
     "name": "stdout",
     "output_type": "stream",
     "text": [
      "Roc AUC: 0.75172\n",
      "LogLoss: 0.48885\n"
     ]
    }
   ],
   "source": [
    "test_model(pnn, test_batch_dataset)"
   ]
  },
  {
   "cell_type": "code",
   "execution_count": null,
   "metadata": {},
   "outputs": [],
   "source": []
  }
 ],
 "metadata": {
  "kernelspec": {
   "display_name": "Python 3",
   "language": "python",
   "name": "python3"
  },
  "language_info": {
   "codemirror_mode": {
    "name": "ipython",
    "version": 3
   },
   "file_extension": ".py",
   "mimetype": "text/x-python",
   "name": "python",
   "nbconvert_exporter": "python",
   "pygments_lexer": "ipython3",
   "version": "3.7.4"
  }
 },
 "nbformat": 4,
 "nbformat_minor": 2
}
